{
  "nbformat": 4,
  "nbformat_minor": 0,
  "metadata": {
    "colab": {
      "provenance": []
    },
    "kernelspec": {
      "name": "python3",
      "display_name": "Python 3"
    },
    "language_info": {
      "name": "python"
    }
  },
  "cells": [
    {
      "cell_type": "code",
      "execution_count": 2,
      "metadata": {
        "id": "fXsf6hC3ieGo"
      },
      "outputs": [],
      "source": [
        "import numpy as np\n",
        "import pandas as pd\n",
        "\n",
        "import matplotlib.pyplot as plt\n",
        "%matplotlib inline"
      ]
    },
    {
      "cell_type": "code",
      "source": [
        "# Carregando base de dados \n",
        "!git clone https://github.com/snitraMnolraM/Criando_Sistema_de_Reconhecimento_Facial_do_Zero.git"
      ],
      "metadata": {
        "colab": {
          "base_uri": "https://localhost:8080/"
        },
        "id": "P0Ak6PXADSFH",
        "outputId": "362175de-3fbb-4292-eb9a-31badc0e192e"
      },
      "execution_count": 3,
      "outputs": [
        {
          "output_type": "stream",
          "name": "stdout",
          "text": [
            "Cloning into 'Criando_Sistema_de_Reconhecimento_Facial_do_Zero'...\n",
            "remote: Enumerating objects: 5811, done.\u001b[K\n",
            "remote: Counting objects: 100% (1009/1009), done.\u001b[K\n",
            "remote: Compressing objects: 100% (1000/1000), done.\u001b[K\n",
            "remote: Total 5811 (delta 15), reused 981 (delta 9), pack-reused 4802\u001b[K\n",
            "Receiving objects: 100% (5811/5811), 436.51 MiB | 37.88 MiB/s, done.\n",
            "Resolving deltas: 100% (63/63), done.\n",
            "Checking out files: 100% (5837/5837), done.\n"
          ]
        }
      ]
    },
    {
      "cell_type": "code",
      "source": [
        "df = pd.read_csv('/content/Criando_Sistema_de_Reconhecimento_Facial_do_Zero/dataset/faces1.csv')"
      ],
      "metadata": {
        "id": "Q7MD0zyfjQcl"
      },
      "execution_count": 4,
      "outputs": []
    },
    {
      "cell_type": "code",
      "source": [
        "df.tail()"
      ],
      "metadata": {
        "id": "JiSYTRn5jj2w",
        "colab": {
          "base_uri": "https://localhost:8080/",
          "height": 317
        },
        "outputId": "d372353d-36ff-4726-9a77-b0c038ae5da2"
      },
      "execution_count": 5,
      "outputs": [
        {
          "output_type": "execute_result",
          "data": {
            "text/plain": [
              "      Unnamed: 0         0         1         2         3         4         5  \\\n",
              "3296        3296  2.214622 -0.892696 -0.025543  0.264256  1.027872 -0.080506   \n",
              "3297        3297  0.603437 -0.330001 -1.477440 -0.268367 -0.484546 -0.088676   \n",
              "3298        3298 -0.220303  0.037024  0.259256  0.941429  1.187605 -0.069720   \n",
              "3299        3299  1.087479  0.755220 -1.560250  0.233360 -1.258553  2.079727   \n",
              "3300        3300  1.343130 -0.391064 -0.598514 -0.317617  0.304199  1.619131   \n",
              "\n",
              "             6         7         8  ...       119       120       121  \\\n",
              "3296  0.330456  0.101382  0.499247  ...  1.105542  2.018212 -0.337148   \n",
              "3297 -0.438667 -0.457203  0.870595  ... -1.049451  1.278901 -0.641879   \n",
              "3298  0.156543 -0.039570 -0.056281  ... -1.640661 -0.386480 -0.517925   \n",
              "3299  0.106518  0.019853  0.534495  ... -0.153888 -0.204704  0.093621   \n",
              "3300 -0.187500 -0.168437  0.123339  ...  0.990499  0.683281 -0.035176   \n",
              "\n",
              "           122       123       124       125       126       127        target  \n",
              "3296  0.122312 -0.843702 -1.610231  0.203335 -0.350950 -1.324591  Desconhecido  \n",
              "3297 -0.128639  0.984689 -0.782011 -0.681047 -0.074032 -0.425313  Desconhecido  \n",
              "3298  0.973711 -0.087621 -0.769330 -1.861863  0.122753  0.353206  Desconhecido  \n",
              "3299  1.049766  0.505572  0.370888 -0.188503  0.079960  0.963694  Desconhecido  \n",
              "3300  1.702495 -0.923036 -0.997819 -0.564307  0.513649 -0.563548  Desconhecido  \n",
              "\n",
              "[5 rows x 130 columns]"
            ],
            "text/html": [
              "\n",
              "  <div id=\"df-b6f3f75e-c2c7-4e0b-b343-804dceee949e\">\n",
              "    <div class=\"colab-df-container\">\n",
              "      <div>\n",
              "<style scoped>\n",
              "    .dataframe tbody tr th:only-of-type {\n",
              "        vertical-align: middle;\n",
              "    }\n",
              "\n",
              "    .dataframe tbody tr th {\n",
              "        vertical-align: top;\n",
              "    }\n",
              "\n",
              "    .dataframe thead th {\n",
              "        text-align: right;\n",
              "    }\n",
              "</style>\n",
              "<table border=\"1\" class=\"dataframe\">\n",
              "  <thead>\n",
              "    <tr style=\"text-align: right;\">\n",
              "      <th></th>\n",
              "      <th>Unnamed: 0</th>\n",
              "      <th>0</th>\n",
              "      <th>1</th>\n",
              "      <th>2</th>\n",
              "      <th>3</th>\n",
              "      <th>4</th>\n",
              "      <th>5</th>\n",
              "      <th>6</th>\n",
              "      <th>7</th>\n",
              "      <th>8</th>\n",
              "      <th>...</th>\n",
              "      <th>119</th>\n",
              "      <th>120</th>\n",
              "      <th>121</th>\n",
              "      <th>122</th>\n",
              "      <th>123</th>\n",
              "      <th>124</th>\n",
              "      <th>125</th>\n",
              "      <th>126</th>\n",
              "      <th>127</th>\n",
              "      <th>target</th>\n",
              "    </tr>\n",
              "  </thead>\n",
              "  <tbody>\n",
              "    <tr>\n",
              "      <th>3296</th>\n",
              "      <td>3296</td>\n",
              "      <td>2.214622</td>\n",
              "      <td>-0.892696</td>\n",
              "      <td>-0.025543</td>\n",
              "      <td>0.264256</td>\n",
              "      <td>1.027872</td>\n",
              "      <td>-0.080506</td>\n",
              "      <td>0.330456</td>\n",
              "      <td>0.101382</td>\n",
              "      <td>0.499247</td>\n",
              "      <td>...</td>\n",
              "      <td>1.105542</td>\n",
              "      <td>2.018212</td>\n",
              "      <td>-0.337148</td>\n",
              "      <td>0.122312</td>\n",
              "      <td>-0.843702</td>\n",
              "      <td>-1.610231</td>\n",
              "      <td>0.203335</td>\n",
              "      <td>-0.350950</td>\n",
              "      <td>-1.324591</td>\n",
              "      <td>Desconhecido</td>\n",
              "    </tr>\n",
              "    <tr>\n",
              "      <th>3297</th>\n",
              "      <td>3297</td>\n",
              "      <td>0.603437</td>\n",
              "      <td>-0.330001</td>\n",
              "      <td>-1.477440</td>\n",
              "      <td>-0.268367</td>\n",
              "      <td>-0.484546</td>\n",
              "      <td>-0.088676</td>\n",
              "      <td>-0.438667</td>\n",
              "      <td>-0.457203</td>\n",
              "      <td>0.870595</td>\n",
              "      <td>...</td>\n",
              "      <td>-1.049451</td>\n",
              "      <td>1.278901</td>\n",
              "      <td>-0.641879</td>\n",
              "      <td>-0.128639</td>\n",
              "      <td>0.984689</td>\n",
              "      <td>-0.782011</td>\n",
              "      <td>-0.681047</td>\n",
              "      <td>-0.074032</td>\n",
              "      <td>-0.425313</td>\n",
              "      <td>Desconhecido</td>\n",
              "    </tr>\n",
              "    <tr>\n",
              "      <th>3298</th>\n",
              "      <td>3298</td>\n",
              "      <td>-0.220303</td>\n",
              "      <td>0.037024</td>\n",
              "      <td>0.259256</td>\n",
              "      <td>0.941429</td>\n",
              "      <td>1.187605</td>\n",
              "      <td>-0.069720</td>\n",
              "      <td>0.156543</td>\n",
              "      <td>-0.039570</td>\n",
              "      <td>-0.056281</td>\n",
              "      <td>...</td>\n",
              "      <td>-1.640661</td>\n",
              "      <td>-0.386480</td>\n",
              "      <td>-0.517925</td>\n",
              "      <td>0.973711</td>\n",
              "      <td>-0.087621</td>\n",
              "      <td>-0.769330</td>\n",
              "      <td>-1.861863</td>\n",
              "      <td>0.122753</td>\n",
              "      <td>0.353206</td>\n",
              "      <td>Desconhecido</td>\n",
              "    </tr>\n",
              "    <tr>\n",
              "      <th>3299</th>\n",
              "      <td>3299</td>\n",
              "      <td>1.087479</td>\n",
              "      <td>0.755220</td>\n",
              "      <td>-1.560250</td>\n",
              "      <td>0.233360</td>\n",
              "      <td>-1.258553</td>\n",
              "      <td>2.079727</td>\n",
              "      <td>0.106518</td>\n",
              "      <td>0.019853</td>\n",
              "      <td>0.534495</td>\n",
              "      <td>...</td>\n",
              "      <td>-0.153888</td>\n",
              "      <td>-0.204704</td>\n",
              "      <td>0.093621</td>\n",
              "      <td>1.049766</td>\n",
              "      <td>0.505572</td>\n",
              "      <td>0.370888</td>\n",
              "      <td>-0.188503</td>\n",
              "      <td>0.079960</td>\n",
              "      <td>0.963694</td>\n",
              "      <td>Desconhecido</td>\n",
              "    </tr>\n",
              "    <tr>\n",
              "      <th>3300</th>\n",
              "      <td>3300</td>\n",
              "      <td>1.343130</td>\n",
              "      <td>-0.391064</td>\n",
              "      <td>-0.598514</td>\n",
              "      <td>-0.317617</td>\n",
              "      <td>0.304199</td>\n",
              "      <td>1.619131</td>\n",
              "      <td>-0.187500</td>\n",
              "      <td>-0.168437</td>\n",
              "      <td>0.123339</td>\n",
              "      <td>...</td>\n",
              "      <td>0.990499</td>\n",
              "      <td>0.683281</td>\n",
              "      <td>-0.035176</td>\n",
              "      <td>1.702495</td>\n",
              "      <td>-0.923036</td>\n",
              "      <td>-0.997819</td>\n",
              "      <td>-0.564307</td>\n",
              "      <td>0.513649</td>\n",
              "      <td>-0.563548</td>\n",
              "      <td>Desconhecido</td>\n",
              "    </tr>\n",
              "  </tbody>\n",
              "</table>\n",
              "<p>5 rows × 130 columns</p>\n",
              "</div>\n",
              "      <button class=\"colab-df-convert\" onclick=\"convertToInteractive('df-b6f3f75e-c2c7-4e0b-b343-804dceee949e')\"\n",
              "              title=\"Convert this dataframe to an interactive table.\"\n",
              "              style=\"display:none;\">\n",
              "        \n",
              "  <svg xmlns=\"http://www.w3.org/2000/svg\" height=\"24px\"viewBox=\"0 0 24 24\"\n",
              "       width=\"24px\">\n",
              "    <path d=\"M0 0h24v24H0V0z\" fill=\"none\"/>\n",
              "    <path d=\"M18.56 5.44l.94 2.06.94-2.06 2.06-.94-2.06-.94-.94-2.06-.94 2.06-2.06.94zm-11 1L8.5 8.5l.94-2.06 2.06-.94-2.06-.94L8.5 2.5l-.94 2.06-2.06.94zm10 10l.94 2.06.94-2.06 2.06-.94-2.06-.94-.94-2.06-.94 2.06-2.06.94z\"/><path d=\"M17.41 7.96l-1.37-1.37c-.4-.4-.92-.59-1.43-.59-.52 0-1.04.2-1.43.59L10.3 9.45l-7.72 7.72c-.78.78-.78 2.05 0 2.83L4 21.41c.39.39.9.59 1.41.59.51 0 1.02-.2 1.41-.59l7.78-7.78 2.81-2.81c.8-.78.8-2.07 0-2.86zM5.41 20L4 18.59l7.72-7.72 1.47 1.35L5.41 20z\"/>\n",
              "  </svg>\n",
              "      </button>\n",
              "      \n",
              "  <style>\n",
              "    .colab-df-container {\n",
              "      display:flex;\n",
              "      flex-wrap:wrap;\n",
              "      gap: 12px;\n",
              "    }\n",
              "\n",
              "    .colab-df-convert {\n",
              "      background-color: #E8F0FE;\n",
              "      border: none;\n",
              "      border-radius: 50%;\n",
              "      cursor: pointer;\n",
              "      display: none;\n",
              "      fill: #1967D2;\n",
              "      height: 32px;\n",
              "      padding: 0 0 0 0;\n",
              "      width: 32px;\n",
              "    }\n",
              "\n",
              "    .colab-df-convert:hover {\n",
              "      background-color: #E2EBFA;\n",
              "      box-shadow: 0px 1px 2px rgba(60, 64, 67, 0.3), 0px 1px 3px 1px rgba(60, 64, 67, 0.15);\n",
              "      fill: #174EA6;\n",
              "    }\n",
              "\n",
              "    [theme=dark] .colab-df-convert {\n",
              "      background-color: #3B4455;\n",
              "      fill: #D2E3FC;\n",
              "    }\n",
              "\n",
              "    [theme=dark] .colab-df-convert:hover {\n",
              "      background-color: #434B5C;\n",
              "      box-shadow: 0px 1px 3px 1px rgba(0, 0, 0, 0.15);\n",
              "      filter: drop-shadow(0px 1px 2px rgba(0, 0, 0, 0.3));\n",
              "      fill: #FFFFFF;\n",
              "    }\n",
              "  </style>\n",
              "\n",
              "      <script>\n",
              "        const buttonEl =\n",
              "          document.querySelector('#df-b6f3f75e-c2c7-4e0b-b343-804dceee949e button.colab-df-convert');\n",
              "        buttonEl.style.display =\n",
              "          google.colab.kernel.accessAllowed ? 'block' : 'none';\n",
              "\n",
              "        async function convertToInteractive(key) {\n",
              "          const element = document.querySelector('#df-b6f3f75e-c2c7-4e0b-b343-804dceee949e');\n",
              "          const dataTable =\n",
              "            await google.colab.kernel.invokeFunction('convertToInteractive',\n",
              "                                                     [key], {});\n",
              "          if (!dataTable) return;\n",
              "\n",
              "          const docLinkHtml = 'Like what you see? Visit the ' +\n",
              "            '<a target=\"_blank\" href=https://colab.research.google.com/notebooks/data_table.ipynb>data table notebook</a>'\n",
              "            + ' to learn more about interactive tables.';\n",
              "          element.innerHTML = '';\n",
              "          dataTable['output_type'] = 'display_data';\n",
              "          await google.colab.output.renderOutput(dataTable, element);\n",
              "          const docLink = document.createElement('div');\n",
              "          docLink.innerHTML = docLinkHtml;\n",
              "          element.appendChild(docLink);\n",
              "        }\n",
              "      </script>\n",
              "    </div>\n",
              "  </div>\n",
              "  "
            ]
          },
          "metadata": {},
          "execution_count": 5
        }
      ]
    },
    {
      "cell_type": "code",
      "source": [
        "df.columns.values"
      ],
      "metadata": {
        "colab": {
          "base_uri": "https://localhost:8080/"
        },
        "id": "RvcMviYjEa9W",
        "outputId": "95317380-b574-4eaf-9c9d-532acc0992a6"
      },
      "execution_count": 6,
      "outputs": [
        {
          "output_type": "execute_result",
          "data": {
            "text/plain": [
              "array(['Unnamed: 0', '0', '1', '2', '3', '4', '5', '6', '7', '8', '9',\n",
              "       '10', '11', '12', '13', '14', '15', '16', '17', '18', '19', '20',\n",
              "       '21', '22', '23', '24', '25', '26', '27', '28', '29', '30', '31',\n",
              "       '32', '33', '34', '35', '36', '37', '38', '39', '40', '41', '42',\n",
              "       '43', '44', '45', '46', '47', '48', '49', '50', '51', '52', '53',\n",
              "       '54', '55', '56', '57', '58', '59', '60', '61', '62', '63', '64',\n",
              "       '65', '66', '67', '68', '69', '70', '71', '72', '73', '74', '75',\n",
              "       '76', '77', '78', '79', '80', '81', '82', '83', '84', '85', '86',\n",
              "       '87', '88', '89', '90', '91', '92', '93', '94', '95', '96', '97',\n",
              "       '98', '99', '100', '101', '102', '103', '104', '105', '106', '107',\n",
              "       '108', '109', '110', '111', '112', '113', '114', '115', '116',\n",
              "       '117', '118', '119', '120', '121', '122', '123', '124', '125',\n",
              "       '126', '127', 'target'], dtype=object)"
            ]
          },
          "metadata": {},
          "execution_count": 6
        }
      ]
    },
    {
      "cell_type": "code",
      "source": [
        "df = df.drop(\"Unnamed: 0\", axis=1)"
      ],
      "metadata": {
        "id": "uFtEC_GXF-hE"
      },
      "execution_count": 7,
      "outputs": []
    },
    {
      "cell_type": "code",
      "source": [
        "X = np.array(df.drop(\"target\", axis=1))"
      ],
      "metadata": {
        "id": "JbM5A-WxDigK"
      },
      "execution_count": 8,
      "outputs": []
    },
    {
      "cell_type": "code",
      "source": [
        "X.shape"
      ],
      "metadata": {
        "colab": {
          "base_uri": "https://localhost:8080/"
        },
        "id": "7U1quPz0D-UQ",
        "outputId": "22110b56-deaa-4900-ef12-069a4c1d6b0d"
      },
      "execution_count": 9,
      "outputs": [
        {
          "output_type": "execute_result",
          "data": {
            "text/plain": [
              "(3301, 128)"
            ]
          },
          "metadata": {},
          "execution_count": 9
        }
      ]
    },
    {
      "cell_type": "code",
      "source": [
        "X"
      ],
      "metadata": {
        "colab": {
          "base_uri": "https://localhost:8080/"
        },
        "id": "T9SBcTKqECAh",
        "outputId": "f2586bc5-c92e-4507-e72c-757a6f511705"
      },
      "execution_count": 10,
      "outputs": [
        {
          "output_type": "execute_result",
          "data": {
            "text/plain": [
              "array([[-0.8283192 ,  0.34726122, -0.10282408, ...,  2.060484  ,\n",
              "         0.687899  , -0.25670514],\n",
              "       [-1.3114648 ,  0.47376135,  1.1849747 , ...,  0.5106106 ,\n",
              "         0.4788892 ,  0.7513056 ],\n",
              "       [-0.9048784 ,  0.9108722 ,  1.4811327 , ...,  0.9618415 ,\n",
              "         0.11153556,  1.0338509 ],\n",
              "       ...,\n",
              "       [-0.22030324,  0.03702389,  0.25925645, ..., -1.8618633 ,\n",
              "         0.1227533 ,  0.35320583],\n",
              "       [ 1.0874795 ,  0.7552204 , -1.5602505 , ..., -0.18850328,\n",
              "         0.07995977,  0.9636937 ],\n",
              "       [ 1.3431295 , -0.3910645 , -0.5985141 , ..., -0.56430745,\n",
              "         0.5136494 , -0.5635481 ]])"
            ]
          },
          "metadata": {},
          "execution_count": 10
        }
      ]
    },
    {
      "cell_type": "code",
      "source": [
        "y = np.array(df.target)"
      ],
      "metadata": {
        "id": "jjX1VSgUGLwl"
      },
      "execution_count": 11,
      "outputs": []
    },
    {
      "cell_type": "code",
      "source": [
        "y.shape"
      ],
      "metadata": {
        "colab": {
          "base_uri": "https://localhost:8080/"
        },
        "id": "6z_i3FsrGw_O",
        "outputId": "695be58d-326e-4cc3-f311-045a593647fc"
      },
      "execution_count": 12,
      "outputs": [
        {
          "output_type": "execute_result",
          "data": {
            "text/plain": [
              "(3301,)"
            ]
          },
          "metadata": {},
          "execution_count": 12
        }
      ]
    },
    {
      "cell_type": "markdown",
      "source": [
        "### Misturando tudo "
      ],
      "metadata": {
        "id": "6TecPGPUHIVs"
      }
    },
    {
      "cell_type": "code",
      "source": [
        "from sklearn.utils import shuffle"
      ],
      "metadata": {
        "id": "cz5zBKQdGxwW"
      },
      "execution_count": 13,
      "outputs": []
    },
    {
      "cell_type": "code",
      "source": [
        "trainX, trainY = shuffle(X, y, random_state=0)"
      ],
      "metadata": {
        "id": "HSRm7veIHQcl"
      },
      "execution_count": 14,
      "outputs": []
    },
    {
      "cell_type": "code",
      "source": [
        "trainY"
      ],
      "metadata": {
        "colab": {
          "base_uri": "https://localhost:8080/"
        },
        "id": "VMveWQV5IBKf",
        "outputId": "ece8f54f-411b-41d7-acce-07e1b0377b8c"
      },
      "execution_count": 15,
      "outputs": [
        {
          "output_type": "execute_result",
          "data": {
            "text/plain": [
              "array(['Gabigol', 'Santos', 'Joao_Gomes', ..., 'Everton_Ribeiro',\n",
              "       'Arrascaeta', 'Desconhecido'], dtype=object)"
            ]
          },
          "metadata": {},
          "execution_count": 15
        }
      ]
    },
    {
      "cell_type": "markdown",
      "source": [
        "###Tratando das Labels\n"
      ],
      "metadata": {
        "id": "GSYUEhIQIXes"
      }
    },
    {
      "cell_type": "code",
      "source": [
        "from sklearn.preprocessing import LabelEncoder"
      ],
      "metadata": {
        "id": "Bx_dpooXIFWv"
      },
      "execution_count": 16,
      "outputs": []
    },
    {
      "cell_type": "code",
      "source": [
        "out_encoder = LabelEncoder()"
      ],
      "metadata": {
        "id": "-mNfGGAHImeW"
      },
      "execution_count": 17,
      "outputs": []
    },
    {
      "cell_type": "code",
      "source": [
        "out_encoder.fit(trainY)"
      ],
      "metadata": {
        "colab": {
          "base_uri": "https://localhost:8080/"
        },
        "id": "Tb5ny81zIwth",
        "outputId": "74e4e214-ceb1-4c23-9104-07549b408e08"
      },
      "execution_count": 18,
      "outputs": [
        {
          "output_type": "execute_result",
          "data": {
            "text/plain": [
              "LabelEncoder()"
            ]
          },
          "metadata": {},
          "execution_count": 18
        }
      ]
    },
    {
      "cell_type": "code",
      "source": [
        "trainY = out_encoder.transform(trainY)"
      ],
      "metadata": {
        "id": "fwwSPd0vI8Ez"
      },
      "execution_count": 19,
      "outputs": []
    },
    {
      "cell_type": "code",
      "source": [
        "trainY"
      ],
      "metadata": {
        "colab": {
          "base_uri": "https://localhost:8080/"
        },
        "id": "QU2d2CqwJMF_",
        "outputId": "ee921ffd-6227-414a-f8cb-1cee7a20fe6a"
      },
      "execution_count": 20,
      "outputs": [
        {
          "output_type": "execute_result",
          "data": {
            "text/plain": [
              "array([ 5, 10,  6, ...,  3,  0,  2])"
            ]
          },
          "metadata": {},
          "execution_count": 20
        }
      ]
    },
    {
      "cell_type": "markdown",
      "source": [
        "### Validation"
      ],
      "metadata": {
        "id": "XL3a3wJcJX0Z"
      }
    },
    {
      "cell_type": "code",
      "source": [
        "df_val = pd.read_csv('/content/Criando_Sistema_de_Reconhecimento_Facial_do_Zero/dataset/faces_val1.csv')"
      ],
      "metadata": {
        "id": "RRYxLgeXJwrS"
      },
      "execution_count": 21,
      "outputs": []
    },
    {
      "cell_type": "code",
      "source": [
        "df_val.columns.values"
      ],
      "metadata": {
        "colab": {
          "base_uri": "https://localhost:8080/"
        },
        "outputId": "0b5d82bf-2fa4-4278-b574-123b7918257f",
        "id": "ovsMHoYSJwrT"
      },
      "execution_count": 22,
      "outputs": [
        {
          "output_type": "execute_result",
          "data": {
            "text/plain": [
              "array(['Unnamed: 0', '0', '1', '2', '3', '4', '5', '6', '7', '8', '9',\n",
              "       '10', '11', '12', '13', '14', '15', '16', '17', '18', '19', '20',\n",
              "       '21', '22', '23', '24', '25', '26', '27', '28', '29', '30', '31',\n",
              "       '32', '33', '34', '35', '36', '37', '38', '39', '40', '41', '42',\n",
              "       '43', '44', '45', '46', '47', '48', '49', '50', '51', '52', '53',\n",
              "       '54', '55', '56', '57', '58', '59', '60', '61', '62', '63', '64',\n",
              "       '65', '66', '67', '68', '69', '70', '71', '72', '73', '74', '75',\n",
              "       '76', '77', '78', '79', '80', '81', '82', '83', '84', '85', '86',\n",
              "       '87', '88', '89', '90', '91', '92', '93', '94', '95', '96', '97',\n",
              "       '98', '99', '100', '101', '102', '103', '104', '105', '106', '107',\n",
              "       '108', '109', '110', '111', '112', '113', '114', '115', '116',\n",
              "       '117', '118', '119', '120', '121', '122', '123', '124', '125',\n",
              "       '126', '127', 'target'], dtype=object)"
            ]
          },
          "metadata": {},
          "execution_count": 22
        }
      ]
    },
    {
      "cell_type": "code",
      "source": [
        "df_val = df_val.drop(\"Unnamed: 0\", axis=1)"
      ],
      "metadata": {
        "id": "lssiSiH9JwrU"
      },
      "execution_count": 23,
      "outputs": []
    },
    {
      "cell_type": "code",
      "source": [
        "valX = np.array(df_val.drop(\"target\", axis=1))\n",
        "valY = np.array(df_val.target)\n"
      ],
      "metadata": {
        "id": "4YTPC4hLJwrU"
      },
      "execution_count": 24,
      "outputs": []
    },
    {
      "cell_type": "code",
      "source": [
        "out_encoder.fit(valY)"
      ],
      "metadata": {
        "colab": {
          "base_uri": "https://localhost:8080/"
        },
        "id": "xSDaEyaCJOaP",
        "outputId": "b28db4f2-ead0-411b-f0df-65e9003cb3bb"
      },
      "execution_count": 25,
      "outputs": [
        {
          "output_type": "execute_result",
          "data": {
            "text/plain": [
              "LabelEncoder()"
            ]
          },
          "metadata": {},
          "execution_count": 25
        }
      ]
    },
    {
      "cell_type": "code",
      "source": [
        "valY = out_encoder.transform(valY) "
      ],
      "metadata": {
        "id": "wT3ILLXHLDHH"
      },
      "execution_count": 26,
      "outputs": []
    },
    {
      "cell_type": "markdown",
      "source": [
        "### **Avaliando algoritmos**"
      ],
      "metadata": {
        "id": "oqW3Ecs7LqXQ"
      }
    },
    {
      "cell_type": "markdown",
      "source": [
        "#####KNN"
      ],
      "metadata": {
        "id": "xj7yJqNajuVA"
      }
    },
    {
      "cell_type": "code",
      "source": [
        "from sklearn.neighbors import KNeighborsClassifier"
      ],
      "metadata": {
        "id": "Xo2H-LcpLM4q"
      },
      "execution_count": 27,
      "outputs": []
    },
    {
      "cell_type": "code",
      "source": [
        "knn = KNeighborsClassifier(n_neighbors=5)"
      ],
      "metadata": {
        "id": "o0WJ88JlLOQy"
      },
      "execution_count": 28,
      "outputs": []
    },
    {
      "cell_type": "code",
      "source": [
        "knn.fit(trainX, trainY)"
      ],
      "metadata": {
        "colab": {
          "base_uri": "https://localhost:8080/"
        },
        "id": "0akDuRiQMhdt",
        "outputId": "b4454386-a304-4465-f918-a0abae4fc41f"
      },
      "execution_count": 29,
      "outputs": [
        {
          "output_type": "execute_result",
          "data": {
            "text/plain": [
              "KNeighborsClassifier()"
            ]
          },
          "metadata": {},
          "execution_count": 29
        }
      ]
    },
    {
      "cell_type": "code",
      "source": [
        "yhat_train = knn.predict(trainX)\n",
        "yhat_val = knn.predict(valX)"
      ],
      "metadata": {
        "id": "M4oOmZZyMy2H"
      },
      "execution_count": 30,
      "outputs": []
    },
    {
      "cell_type": "code",
      "source": [
        "yhat_val"
      ],
      "metadata": {
        "colab": {
          "base_uri": "https://localhost:8080/"
        },
        "id": "cnB9h0z1NZxf",
        "outputId": "52cd0116-6255-4f13-d3bc-72906dfaa40d"
      },
      "execution_count": 31,
      "outputs": [
        {
          "output_type": "execute_result",
          "data": {
            "text/plain": [
              "array([10, 10, 10, 10, 10, 10, 10,  3, 10, 10, 10, 10, 10, 10, 10, 10, 10,\n",
              "       10, 10, 10, 10, 10, 10, 10, 10, 10, 10, 10, 10, 10, 10, 10, 10, 10,\n",
              "       10, 10, 10, 10, 10, 10,  5,  5,  5,  5,  5,  5,  5,  5,  5,  5,  5,\n",
              "        5,  5,  5,  5,  5,  5,  5,  5,  5,  5,  5,  5,  5,  5,  5,  5,  5,\n",
              "        5,  5,  5,  5,  5,  5,  5,  5,  5,  5,  5,  5,  5,  5,  5,  5,  5,\n",
              "        5,  5,  5,  5,  5,  5,  5,  5,  5,  5,  5,  5,  5,  5,  5,  5,  5,\n",
              "        5,  5,  5,  5,  5,  5,  5,  5,  5,  5,  5,  5,  5,  5,  5,  5,  5,\n",
              "        5,  5,  5,  5,  5,  5,  5,  5,  5,  5,  5,  5,  5,  5,  5,  5,  5,\n",
              "        5,  5,  5,  5,  5,  5,  5,  5,  5,  5,  5,  5,  5,  5,  5,  5,  5,\n",
              "        5,  5,  5,  5,  5,  5,  5,  5,  5,  5,  5,  5,  5,  5,  5,  5,  5,\n",
              "        5,  5,  5,  5,  5,  5,  5,  5,  5,  5,  5,  5,  6,  6,  6,  6,  6,\n",
              "        6,  6,  6,  6,  6,  6,  6,  6,  6,  6,  6,  6,  6,  6,  6,  6,  6,\n",
              "        6,  6,  6,  6,  6,  6,  6,  6,  6,  6,  6,  6,  6,  6,  6,  6,  6,\n",
              "        6,  6,  6,  6,  6,  6,  6,  6,  6,  6,  6,  6,  6,  9,  9,  9,  9,\n",
              "        9,  9,  9,  9,  9,  9,  9,  9,  9,  9,  9,  9,  9,  9,  9,  9,  9,\n",
              "        9,  9,  9,  9,  9,  9,  9,  9,  9,  9,  9,  9,  9,  9,  9,  9,  9,\n",
              "        9,  9,  9,  9,  9,  9,  9,  9,  9,  9,  9,  9, 11, 11, 11, 11, 11,\n",
              "       11, 11, 11, 11, 11,  5, 11, 11, 11, 11, 11, 11, 11,  5, 11, 11, 11,\n",
              "       11, 11, 11, 11, 11, 11, 11, 11, 11, 11, 11, 11, 11, 11, 11, 11, 11,\n",
              "        5,  4,  4,  4,  4,  4,  4,  4,  4,  4,  4,  4,  4,  4,  4,  4,  4,\n",
              "        4,  4,  4,  4,  4,  4,  4,  4,  4,  4,  4,  4,  4,  4,  4,  4,  4,\n",
              "        4,  4,  4,  4,  4,  3,  3,  3,  3,  3,  5,  5,  3,  3,  3,  3,  3,\n",
              "        3,  3,  3,  3,  3,  3,  3,  3,  3,  3,  3,  3,  3,  3,  3,  3,  3,\n",
              "        3,  3,  3,  3,  3,  3,  3,  3,  3,  3,  3,  3,  3,  1,  1,  1,  1,\n",
              "        1,  1,  1,  1,  1,  1,  1,  1,  1,  1,  1,  1,  1,  1,  1,  1,  1,\n",
              "        1,  1,  1,  1,  1,  4,  1,  1,  1,  1,  1,  1,  1,  1,  1,  1,  1,\n",
              "        1,  1,  1,  1,  1,  1,  1,  1,  1,  1,  1,  1,  8,  8,  8,  8,  8,\n",
              "        8,  8,  8,  8,  8,  8,  8,  8,  8,  8,  8,  8,  8,  8,  8,  8,  8,\n",
              "        8,  8,  8,  8,  8,  8,  8,  8,  8,  8,  8,  8,  8,  8,  8,  8,  8,\n",
              "        8,  8,  8,  8,  8,  7,  7,  7,  7,  7,  7,  7,  7,  7,  7,  7,  7,\n",
              "        7,  7,  7,  7,  7,  7,  7,  7,  7,  7,  7,  7,  7,  7,  7,  7,  7,\n",
              "        7,  7,  7,  7,  7,  7,  7,  7,  7,  7,  7,  7,  7,  7,  7,  7,  7,\n",
              "        7,  7,  7,  7,  7,  7,  0,  0, 10,  0,  0,  0,  0,  0,  0,  0,  0,\n",
              "        0,  0,  0,  0,  0,  0,  0,  0,  0,  0,  0,  0,  0,  0,  0,  0,  0,\n",
              "        0,  0,  0,  0,  0,  0,  0,  0,  0,  0,  0,  0,  0,  0,  0,  0,  0,\n",
              "        0,  0,  0,  0,  0,  0,  0,  0,  0,  0,  0,  0,  5,  0,  0,  2,  2,\n",
              "        0,  2,  8, 11,  2,  2,  2,  2,  2,  2,  2,  2,  2,  2,  7,  2,  2,\n",
              "        2,  2,  2,  2,  2,  2,  2,  6,  2,  2,  2,  2,  2,  2,  2,  2,  2,\n",
              "        2,  9,  3,  2,  2,  3,  2,  2,  2,  2,  2,  2,  2,  2,  2,  2,  2,\n",
              "        1,  2,  6,  6,  2,  2,  2,  2,  1,  9,  2,  2,  2,  2,  2,  2,  5,\n",
              "        2,  2,  2,  2,  2,  2,  2,  2,  2,  2,  2,  2,  2,  2,  2,  2,  2,\n",
              "        2,  2,  2,  2,  2, 10,  2,  2,  2,  2,  1,  2,  2,  2,  2,  2,  2,\n",
              "        2,  1,  2,  2,  2,  2,  2,  2,  2,  2,  2,  2,  2,  2, 10,  5,  2,\n",
              "        2,  2,  2, 10,  2,  2,  3,  2,  2,  2,  2,  2,  2,  2,  2,  2,  2,\n",
              "        2,  2,  3,  2,  2,  5,  2,  2,  2,  9,  2,  2,  2,  2,  2,  2, 10,\n",
              "        2,  2,  2,  2,  2, 11,  2,  2,  2,  2,  2,  2,  2,  2,  2,  2,  5,\n",
              "        2,  2,  2,  2,  2,  3,  2,  2,  5,  2,  2,  2,  2,  2,  2,  2,  2,\n",
              "        2,  2,  2,  2,  2,  3,  2,  2,  2,  2,  2,  2,  2,  3, 10,  2,  2,\n",
              "        2,  2,  3,  2,  5,  2,  2,  2,  2,  2,  2,  2,  3,  6,  2,  2,  2,\n",
              "        3,  2,  7,  2,  2,  1,  2,  2,  2,  2, 10,  2,  2,  2,  1,  2,  2,\n",
              "        2,  2,  2,  2,  2,  2,  2,  2,  2,  2,  2,  2,  2,  2,  6,  2,  2,\n",
              "        2,  2,  2,  2,  5,  2,  2,  2,  2,  2])"
            ]
          },
          "metadata": {},
          "execution_count": 31
        }
      ]
    },
    {
      "cell_type": "code",
      "source": [
        "from sklearn.metrics import confusion_matrix, accuracy_score, classification_report\n",
        "from sklearn import metrics\n",
        "import seaborn as sns\n"
      ],
      "metadata": {
        "id": "pcst9H4ANilR"
      },
      "execution_count": 32,
      "outputs": []
    },
    {
      "cell_type": "code",
      "source": [
        "def print_confusion_matrix(model_name, valY, yhat_val):\n",
        "\n",
        "  cm = confusion_matrix(valY, yhat_val)\n",
        "  total = sum(sum(cm))\n",
        "  acc =  100*accuracy_score(valY, yhat_val)\n",
        "  sensitivity = 100*metrics.recall_score(valY, yhat_val, average='macro')\n",
        "  specificity = 100*metrics.recall_score(yhat_val, valY, average='macro', pos_label=1)\n",
        "\n",
        "  print(\"MODELO: {}\".format(model_name))\n",
        "  print(\"Acurácia: {:.2f}%\".format(acc))\n",
        "  print(\"Sensitividade: {:.4f}%\".format(sensitivity))\n",
        "  print(\"Especificidade: {:.4f}%\".format(specificity))\n",
        "  \n",
        "  \n",
        "  \n",
        "\n",
        "  from mlxtend.plotting import plot_confusion_matrix\n",
        "  fig, ax = plot_confusion_matrix(conf_mat= cm , figsize= (5, 8))\n",
        "\n",
        "  plt.tight_layout()\n",
        "  plt.title(\"Confusion Matrix\")\n",
        "  plt.show()\n",
        "  "
      ],
      "metadata": {
        "id": "Y0wEjTQuOKhS"
      },
      "execution_count": 33,
      "outputs": []
    },
    {
      "cell_type": "code",
      "source": [
        "print_confusion_matrix(\"KNN\", valY, yhat_val)"
      ],
      "metadata": {
        "colab": {
          "base_uri": "https://localhost:8080/",
          "height": 467
        },
        "id": "dY0OtUJoTPKF",
        "outputId": "b0214307-92d1-48f2-e789-5f425c86b559"
      },
      "execution_count": 34,
      "outputs": [
        {
          "output_type": "stream",
          "name": "stdout",
          "text": [
            "MODELO: KNN\n",
            "Acurácia: 94.07%\n",
            "Sensitividade: 96.9833%\n",
            "Especificidade: 92.8477%\n"
          ]
        },
        {
          "output_type": "display_data",
          "data": {
            "text/plain": [
              "<Figure size 360x576 with 1 Axes>"
            ],
            "image/png": "[encoded data removed]"
          },
          "metadata": {
            "needs_background": "light"
          }
        }
      ]
    },
    {
      "cell_type": "code",
      "source": [
        "print(classification_report(valY, yhat_val))"
      ],
      "metadata": {
        "colab": {
          "base_uri": "https://localhost:8080/"
        },
        "id": "_pPhde85TUgf",
        "outputId": "bf50f425-0485-477c-dcae-f7f693357e80"
      },
      "execution_count": 35,
      "outputs": [
        {
          "output_type": "stream",
          "name": "stdout",
          "text": [
            "              precision    recall  f1-score   support\n",
            "\n",
            "           0       0.98      0.97      0.97        60\n",
            "           1       0.89      0.98      0.93        50\n",
            "           2       1.00      0.84      0.91       267\n",
            "           3       0.78      0.95      0.86        42\n",
            "           4       0.97      1.00      0.99        38\n",
            "           5       0.92      1.00      0.96       142\n",
            "           6       0.91      1.00      0.95        52\n",
            "           7       0.96      1.00      0.98        52\n",
            "           8       0.98      1.00      0.99        44\n",
            "           9       0.94      1.00      0.97        50\n",
            "          10       0.85      0.97      0.91        40\n",
            "          11       0.95      0.93      0.94        40\n",
            "\n",
            "    accuracy                           0.94       877\n",
            "   macro avg       0.93      0.97      0.95       877\n",
            "weighted avg       0.95      0.94      0.94       877\n",
            "\n"
          ]
        }
      ]
    },
    {
      "cell_type": "markdown",
      "source": [
        "#### SVM"
      ],
      "metadata": {
        "id": "VVR4fu78j32A"
      }
    },
    {
      "cell_type": "code",
      "source": [
        "from sklearn import svm"
      ],
      "metadata": {
        "id": "buAGo7e4j2hh"
      },
      "execution_count": 36,
      "outputs": []
    },
    {
      "cell_type": "code",
      "source": [
        "svm = svm.SVC()"
      ],
      "metadata": {
        "id": "CDCzBYzOgZxh"
      },
      "execution_count": 37,
      "outputs": []
    },
    {
      "cell_type": "code",
      "source": [
        "svm.fit(trainX, trainY)"
      ],
      "metadata": {
        "colab": {
          "base_uri": "https://localhost:8080/"
        },
        "id": "XHIGiSuInEkb",
        "outputId": "ab740a4a-8845-44a1-f5ca-c0892a8c859f"
      },
      "execution_count": 38,
      "outputs": [
        {
          "output_type": "execute_result",
          "data": {
            "text/plain": [
              "SVC()"
            ]
          },
          "metadata": {},
          "execution_count": 38
        }
      ]
    },
    {
      "cell_type": "code",
      "source": [
        "yhat_train = svm.predict(trainX)\n",
        "yhat_val = svm.predict(valX)"
      ],
      "metadata": {
        "id": "gKi4l8efndQx"
      },
      "execution_count": 39,
      "outputs": []
    },
    {
      "cell_type": "code",
      "source": [
        "print_confusion_matrix(\"SVM\", valY, yhat_val)"
      ],
      "metadata": {
        "colab": {
          "base_uri": "https://localhost:8080/",
          "height": 467
        },
        "id": "LYL2Pl6cnz1t",
        "outputId": "4c2b3b0b-8a52-4a2f-82d6-b05f655b01f9"
      },
      "execution_count": 40,
      "outputs": [
        {
          "output_type": "stream",
          "name": "stdout",
          "text": [
            "MODELO: SVM\n",
            "Acurácia: 98.63%\n",
            "Sensitividade: 98.0638%\n",
            "Especificidade: 99.3992%\n"
          ]
        },
        {
          "output_type": "display_data",
          "data": {
            "text/plain": [
              "<Figure size 360x576 with 1 Axes>"
            ],
            "image/png": "[encoded data removed]"
          },
          "metadata": {
            "needs_background": "light"
          }
        }
      ]
    },
    {
      "cell_type": "markdown",
      "source": [
        "### Usando o Keras"
      ],
      "metadata": {
        "id": "BiB2_Dp3o1NU"
      }
    },
    {
      "cell_type": "code",
      "source": [
        "from tensorflow.keras.utils import to_categorical"
      ],
      "metadata": {
        "id": "duMto71RoDn5"
      },
      "execution_count": 41,
      "outputs": []
    },
    {
      "cell_type": "code",
      "source": [
        "trainY = to_categorical(trainY)"
      ],
      "metadata": {
        "id": "3qS9FeHRpaNr"
      },
      "execution_count": 42,
      "outputs": []
    },
    {
      "cell_type": "code",
      "source": [
        "valY = to_categorical(valY)\n"
      ],
      "metadata": {
        "id": "VCCx-hBDpzVp"
      },
      "execution_count": 43,
      "outputs": []
    },
    {
      "cell_type": "code",
      "source": [
        "from tensorflow.keras import models, layers\n"
      ],
      "metadata": {
        "id": "-kVdn0LPq-So"
      },
      "execution_count": 44,
      "outputs": []
    },
    {
      "cell_type": "code",
      "source": [
        "model = models.Sequential()\n",
        "model.add(layers.Dense(64, activation='relu', input_shape=(128,)))\n",
        "model.add(layers.Dropout(0.5))\n",
        "model.add(layers.Dense(12, activation='softmax'))\n",
        "\n",
        "model.summary()"
      ],
      "metadata": {
        "colab": {
          "base_uri": "https://localhost:8080/"
        },
        "id": "NXEqr6h6rO5d",
        "outputId": "c102a076-78b2-4ccd-b7a9-a94f049b5bec"
      },
      "execution_count": 48,
      "outputs": [
        {
          "output_type": "stream",
          "name": "stdout",
          "text": [
            "Model: \"sequential_1\"\n",
            "_________________________________________________________________\n",
            " Layer (type)                Output Shape              Param #   \n",
            "=================================================================\n",
            " dense_2 (Dense)             (None, 64)                8256      \n",
            "                                                                 \n",
            " dropout_1 (Dropout)         (None, 64)                0         \n",
            "                                                                 \n",
            " dense_3 (Dense)             (None, 12)                780       \n",
            "                                                                 \n",
            "=================================================================\n",
            "Total params: 9,036\n",
            "Trainable params: 9,036\n",
            "Non-trainable params: 0\n",
            "_________________________________________________________________\n"
          ]
        }
      ]
    },
    {
      "cell_type": "code",
      "source": [
        "model.compile(\n",
        "    optimizer='adam', \n",
        "    loss='categorical_crossentropy',\n",
        "    metrics=['accuracy'])"
      ],
      "metadata": {
        "id": "mPt8i85vs3Nq"
      },
      "execution_count": 49,
      "outputs": []
    },
    {
      "cell_type": "code",
      "source": [
        "model.fit(trainX, trainY, epochs=100, batch_size=4)"
      ],
      "metadata": {
        "colab": {
          "base_uri": "https://localhost:8080/"
        },
        "id": "_YOTBHVGtJq_",
        "outputId": "b7d3570f-2fd4-4b6e-a1a1-67fd3d1c0452"
      },
      "execution_count": 52,
      "outputs": [
        {
          "output_type": "stream",
          "name": "stdout",
          "text": [
            "Epoch 1/100\n",
            "826/826 [==============================] - 1s 2ms/step - loss: 0.0169 - accuracy: 0.9939\n",
            "Epoch 2/100\n",
            "826/826 [==============================] - 1s 2ms/step - loss: 0.0114 - accuracy: 0.9958\n",
            "Epoch 3/100\n",
            "826/826 [==============================] - 1s 2ms/step - loss: 0.0120 - accuracy: 0.9955\n",
            "Epoch 4/100\n",
            "826/826 [==============================] - 1s 2ms/step - loss: 0.0118 - accuracy: 0.9976\n",
            "Epoch 5/100\n",
            "826/826 [==============================] - 1s 2ms/step - loss: 0.0155 - accuracy: 0.9958\n",
            "Epoch 6/100\n",
            "826/826 [==============================] - 1s 2ms/step - loss: 0.0230 - accuracy: 0.9921\n",
            "Epoch 7/100\n",
            "826/826 [==============================] - 1s 2ms/step - loss: 0.0201 - accuracy: 0.9927\n",
            "Epoch 8/100\n",
            "826/826 [==============================] - 1s 2ms/step - loss: 0.0130 - accuracy: 0.9952\n",
            "Epoch 9/100\n",
            "826/826 [==============================] - 1s 2ms/step - loss: 0.0180 - accuracy: 0.9952\n",
            "Epoch 10/100\n",
            "826/826 [==============================] - 1s 2ms/step - loss: 0.0122 - accuracy: 0.9952\n",
            "Epoch 11/100\n",
            "826/826 [==============================] - 1s 2ms/step - loss: 0.0186 - accuracy: 0.9939\n",
            "Epoch 12/100\n",
            "826/826 [==============================] - 1s 2ms/step - loss: 0.0113 - accuracy: 0.9958\n",
            "Epoch 13/100\n",
            "826/826 [==============================] - 1s 2ms/step - loss: 0.0124 - accuracy: 0.9958\n",
            "Epoch 14/100\n",
            "826/826 [==============================] - 1s 2ms/step - loss: 0.0160 - accuracy: 0.9945\n",
            "Epoch 15/100\n",
            "826/826 [==============================] - 1s 2ms/step - loss: 0.0150 - accuracy: 0.9955\n",
            "Epoch 16/100\n",
            "826/826 [==============================] - 1s 2ms/step - loss: 0.0191 - accuracy: 0.9933\n",
            "Epoch 17/100\n",
            "826/826 [==============================] - 1s 2ms/step - loss: 0.0128 - accuracy: 0.9952\n",
            "Epoch 18/100\n",
            "826/826 [==============================] - 1s 2ms/step - loss: 0.0110 - accuracy: 0.9967\n",
            "Epoch 19/100\n",
            "826/826 [==============================] - 1s 2ms/step - loss: 0.0128 - accuracy: 0.9958\n",
            "Epoch 20/100\n",
            "826/826 [==============================] - 1s 2ms/step - loss: 0.0089 - accuracy: 0.9961\n",
            "Epoch 21/100\n",
            "826/826 [==============================] - 1s 2ms/step - loss: 0.0086 - accuracy: 0.9967\n",
            "Epoch 22/100\n",
            "826/826 [==============================] - 1s 2ms/step - loss: 0.0198 - accuracy: 0.9939\n",
            "Epoch 23/100\n",
            "826/826 [==============================] - 1s 2ms/step - loss: 0.0115 - accuracy: 0.9964\n",
            "Epoch 24/100\n",
            "826/826 [==============================] - 1s 2ms/step - loss: 0.0167 - accuracy: 0.9949\n",
            "Epoch 25/100\n",
            "826/826 [==============================] - 1s 2ms/step - loss: 0.0147 - accuracy: 0.9964\n",
            "Epoch 26/100\n",
            "826/826 [==============================] - 1s 2ms/step - loss: 0.0079 - accuracy: 0.9979\n",
            "Epoch 27/100\n",
            "826/826 [==============================] - 1s 2ms/step - loss: 0.0094 - accuracy: 0.9970\n",
            "Epoch 28/100\n",
            "826/826 [==============================] - 1s 2ms/step - loss: 0.0103 - accuracy: 0.9955\n",
            "Epoch 29/100\n",
            "826/826 [==============================] - 1s 2ms/step - loss: 0.0136 - accuracy: 0.9952\n",
            "Epoch 30/100\n",
            "826/826 [==============================] - 1s 2ms/step - loss: 0.0168 - accuracy: 0.9952\n",
            "Epoch 31/100\n",
            "826/826 [==============================] - 2s 2ms/step - loss: 0.0065 - accuracy: 0.9976\n",
            "Epoch 32/100\n",
            "826/826 [==============================] - 2s 2ms/step - loss: 0.0098 - accuracy: 0.9955\n",
            "Epoch 33/100\n",
            "826/826 [==============================] - 1s 2ms/step - loss: 0.0118 - accuracy: 0.9967\n",
            "Epoch 34/100\n",
            "826/826 [==============================] - 1s 2ms/step - loss: 0.0110 - accuracy: 0.9952\n",
            "Epoch 35/100\n",
            "826/826 [==============================] - 1s 2ms/step - loss: 0.0119 - accuracy: 0.9961\n",
            "Epoch 36/100\n",
            "826/826 [==============================] - 1s 2ms/step - loss: 0.0131 - accuracy: 0.9967\n",
            "Epoch 37/100\n",
            "826/826 [==============================] - 1s 2ms/step - loss: 0.0146 - accuracy: 0.9939\n",
            "Epoch 38/100\n",
            "826/826 [==============================] - 1s 2ms/step - loss: 0.0252 - accuracy: 0.9921\n",
            "Epoch 39/100\n",
            "826/826 [==============================] - 1s 2ms/step - loss: 0.0106 - accuracy: 0.9961\n",
            "Epoch 40/100\n",
            "826/826 [==============================] - 1s 2ms/step - loss: 0.0111 - accuracy: 0.9949\n",
            "Epoch 41/100\n",
            "826/826 [==============================] - 1s 2ms/step - loss: 0.0105 - accuracy: 0.9973\n",
            "Epoch 42/100\n",
            "826/826 [==============================] - 1s 2ms/step - loss: 0.0103 - accuracy: 0.9961\n",
            "Epoch 43/100\n",
            "826/826 [==============================] - 1s 2ms/step - loss: 0.0142 - accuracy: 0.9952\n",
            "Epoch 44/100\n",
            "826/826 [==============================] - 1s 2ms/step - loss: 0.0117 - accuracy: 0.9958\n",
            "Epoch 45/100\n",
            "826/826 [==============================] - 1s 2ms/step - loss: 0.0102 - accuracy: 0.9964\n",
            "Epoch 46/100\n",
            "826/826 [==============================] - 1s 2ms/step - loss: 0.0151 - accuracy: 0.9958\n",
            "Epoch 47/100\n",
            "826/826 [==============================] - 1s 2ms/step - loss: 0.0130 - accuracy: 0.9964\n",
            "Epoch 48/100\n",
            "826/826 [==============================] - 1s 2ms/step - loss: 0.0219 - accuracy: 0.9942\n",
            "Epoch 49/100\n",
            "826/826 [==============================] - 1s 2ms/step - loss: 0.0133 - accuracy: 0.9958\n",
            "Epoch 50/100\n",
            "826/826 [==============================] - 1s 2ms/step - loss: 0.0142 - accuracy: 0.9949\n",
            "Epoch 51/100\n",
            "826/826 [==============================] - 1s 2ms/step - loss: 0.0135 - accuracy: 0.9964\n",
            "Epoch 52/100\n",
            "826/826 [==============================] - 1s 2ms/step - loss: 0.0074 - accuracy: 0.9964\n",
            "Epoch 53/100\n",
            "826/826 [==============================] - 1s 2ms/step - loss: 0.0131 - accuracy: 0.9967\n",
            "Epoch 54/100\n",
            "826/826 [==============================] - 1s 2ms/step - loss: 0.0109 - accuracy: 0.9973\n",
            "Epoch 55/100\n",
            "826/826 [==============================] - 1s 2ms/step - loss: 0.0071 - accuracy: 0.9976\n",
            "Epoch 56/100\n",
            "826/826 [==============================] - 1s 2ms/step - loss: 0.0122 - accuracy: 0.9967\n",
            "Epoch 57/100\n",
            "826/826 [==============================] - 1s 2ms/step - loss: 0.0104 - accuracy: 0.9958\n",
            "Epoch 58/100\n",
            "826/826 [==============================] - 1s 2ms/step - loss: 0.0133 - accuracy: 0.9955\n",
            "Epoch 59/100\n",
            "826/826 [==============================] - 1s 2ms/step - loss: 0.0111 - accuracy: 0.9973\n",
            "Epoch 60/100\n",
            "826/826 [==============================] - 1s 2ms/step - loss: 0.0127 - accuracy: 0.9967\n",
            "Epoch 61/100\n",
            "826/826 [==============================] - 1s 2ms/step - loss: 0.0071 - accuracy: 0.9979\n",
            "Epoch 62/100\n",
            "826/826 [==============================] - 1s 2ms/step - loss: 0.0096 - accuracy: 0.9958\n",
            "Epoch 63/100\n",
            "826/826 [==============================] - 1s 2ms/step - loss: 0.0147 - accuracy: 0.9952\n",
            "Epoch 64/100\n",
            "826/826 [==============================] - 1s 2ms/step - loss: 0.0195 - accuracy: 0.9942\n",
            "Epoch 65/100\n",
            "826/826 [==============================] - 1s 2ms/step - loss: 0.0126 - accuracy: 0.9958\n",
            "Epoch 66/100\n",
            "826/826 [==============================] - 1s 2ms/step - loss: 0.0146 - accuracy: 0.9952\n",
            "Epoch 67/100\n",
            "826/826 [==============================] - 1s 2ms/step - loss: 0.0124 - accuracy: 0.9955\n",
            "Epoch 68/100\n",
            "826/826 [==============================] - 1s 2ms/step - loss: 0.0196 - accuracy: 0.9936\n",
            "Epoch 69/100\n",
            "826/826 [==============================] - 1s 2ms/step - loss: 0.0164 - accuracy: 0.9942\n",
            "Epoch 70/100\n",
            "826/826 [==============================] - 1s 2ms/step - loss: 0.0093 - accuracy: 0.9976\n",
            "Epoch 71/100\n",
            "826/826 [==============================] - 1s 2ms/step - loss: 0.0145 - accuracy: 0.9958\n",
            "Epoch 72/100\n",
            "826/826 [==============================] - 1s 2ms/step - loss: 0.0073 - accuracy: 0.9970\n",
            "Epoch 73/100\n",
            "826/826 [==============================] - 1s 2ms/step - loss: 0.0123 - accuracy: 0.9949\n",
            "Epoch 74/100\n",
            "826/826 [==============================] - 1s 2ms/step - loss: 0.0277 - accuracy: 0.9939\n",
            "Epoch 75/100\n",
            "826/826 [==============================] - 1s 2ms/step - loss: 0.0116 - accuracy: 0.9952\n",
            "Epoch 76/100\n",
            "826/826 [==============================] - 1s 2ms/step - loss: 0.0114 - accuracy: 0.9967\n",
            "Epoch 77/100\n",
            "826/826 [==============================] - 1s 2ms/step - loss: 0.0143 - accuracy: 0.9958\n",
            "Epoch 78/100\n",
            "826/826 [==============================] - 1s 2ms/step - loss: 0.0107 - accuracy: 0.9958\n",
            "Epoch 79/100\n",
            "826/826 [==============================] - 1s 2ms/step - loss: 0.0115 - accuracy: 0.9973\n",
            "Epoch 80/100\n",
            "826/826 [==============================] - 1s 2ms/step - loss: 0.0096 - accuracy: 0.9970\n",
            "Epoch 81/100\n",
            "826/826 [==============================] - 1s 2ms/step - loss: 0.0096 - accuracy: 0.9973\n",
            "Epoch 82/100\n",
            "826/826 [==============================] - 1s 2ms/step - loss: 0.0083 - accuracy: 0.9973\n",
            "Epoch 83/100\n",
            "826/826 [==============================] - 1s 2ms/step - loss: 0.0155 - accuracy: 0.9952\n",
            "Epoch 84/100\n",
            "826/826 [==============================] - 1s 2ms/step - loss: 0.0123 - accuracy: 0.9952\n",
            "Epoch 85/100\n",
            "826/826 [==============================] - 1s 2ms/step - loss: 0.0120 - accuracy: 0.9955\n",
            "Epoch 86/100\n",
            "826/826 [==============================] - 1s 2ms/step - loss: 0.0114 - accuracy: 0.9970\n",
            "Epoch 87/100\n",
            "826/826 [==============================] - 1s 2ms/step - loss: 0.0121 - accuracy: 0.9967\n",
            "Epoch 88/100\n",
            "826/826 [==============================] - 1s 2ms/step - loss: 0.0114 - accuracy: 0.9973\n",
            "Epoch 89/100\n",
            "826/826 [==============================] - 1s 2ms/step - loss: 0.0139 - accuracy: 0.9958\n",
            "Epoch 90/100\n",
            "826/826 [==============================] - 1s 2ms/step - loss: 0.0087 - accuracy: 0.9970\n",
            "Epoch 91/100\n",
            "826/826 [==============================] - 1s 2ms/step - loss: 0.0118 - accuracy: 0.9967\n",
            "Epoch 92/100\n",
            "826/826 [==============================] - 1s 2ms/step - loss: 0.0127 - accuracy: 0.9958\n",
            "Epoch 93/100\n",
            "826/826 [==============================] - 1s 2ms/step - loss: 0.0139 - accuracy: 0.9936\n",
            "Epoch 94/100\n",
            "826/826 [==============================] - 1s 2ms/step - loss: 0.0079 - accuracy: 0.9976\n",
            "Epoch 95/100\n",
            "826/826 [==============================] - 1s 2ms/step - loss: 0.0153 - accuracy: 0.9949\n",
            "Epoch 96/100\n",
            "826/826 [==============================] - 1s 2ms/step - loss: 0.0121 - accuracy: 0.9958\n",
            "Epoch 97/100\n",
            "826/826 [==============================] - 1s 2ms/step - loss: 0.0194 - accuracy: 0.9927\n",
            "Epoch 98/100\n",
            "826/826 [==============================] - 1s 2ms/step - loss: 0.0184 - accuracy: 0.9961\n",
            "Epoch 99/100\n",
            "826/826 [==============================] - 1s 2ms/step - loss: 0.0073 - accuracy: 0.9982\n",
            "Epoch 100/100\n",
            "826/826 [==============================] - 1s 2ms/step - loss: 0.0182 - accuracy: 0.9961\n"
          ]
        },
        {
          "output_type": "execute_result",
          "data": {
            "text/plain": [
              "<keras.callbacks.History at 0x7fa89e6566d0>"
            ]
          },
          "metadata": {},
          "execution_count": 52
        }
      ]
    },
    {
      "cell_type": "code",
      "source": [
        "yhat_train = model.predict(trainX)\n",
        "yhat_val = model.predict(valX)"
      ],
      "metadata": {
        "id": "adfEyVfitJRp"
      },
      "execution_count": 53,
      "outputs": []
    },
    {
      "cell_type": "code",
      "source": [
        "# tirando as probilidades \n",
        "yhat_val = np.argmax(yhat_val, axis=1)\n",
        "valY = np.argmax(valY, axis=1)\n"
      ],
      "metadata": {
        "id": "RGMxvjmAvGtp"
      },
      "execution_count": 54,
      "outputs": []
    },
    {
      "cell_type": "code",
      "source": [
        "print_confusion_matrix(\"KERAS\", valY, yhat_val)"
      ],
      "metadata": {
        "colab": {
          "base_uri": "https://localhost:8080/",
          "height": 467
        },
        "id": "5fZNLIYVupGj",
        "outputId": "46580005-7ec9-4c74-e56a-bcd5aa127bed"
      },
      "execution_count": 55,
      "outputs": [
        {
          "output_type": "stream",
          "name": "stdout",
          "text": [
            "MODELO: KERAS\n",
            "Acurácia: 97.61%\n",
            "Sensitividade: 97.1132%\n",
            "Especificidade: 98.9823%\n"
          ]
        },
        {
          "output_type": "display_data",
          "data": {
            "text/plain": [
              "<Figure size 360x576 with 1 Axes>"
            ],
            "image/png": "[encoded data removed]"
          },
          "metadata": {
            "needs_background": "light"
          }
        }
      ]
    },
    {
      "cell_type": "code",
      "source": [
        "model.save('faces1.h5')"
      ],
      "metadata": {
        "id": "06LGzTlawjFd"
      },
      "execution_count": 56,
      "outputs": []
    },
    {
      "cell_type": "code",
      "source": [],
      "metadata": {
        "id": "7r18n4RWwqz2"
      },
      "execution_count": null,
      "outputs": []
    }
  ]
}